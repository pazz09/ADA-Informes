{
  "nbformat": 4,
  "nbformat_minor": 0,
  "metadata": {
    "colab": {
      "provenance": [],
      "authorship_tag": "ABX9TyNLqJQSQbI5ILktEQJdwOJf",
      "include_colab_link": true
    },
    "kernelspec": {
      "name": "python3",
      "display_name": "Python 3"
    },
    "language_info": {
      "name": "python"
    }
  },
  "cells": [
    {
      "cell_type": "markdown",
      "metadata": {
        "id": "view-in-github",
        "colab_type": "text"
      },
      "source": [
        "<a href=\"https://colab.research.google.com/github/pazz09/ADA-Informes/blob/main/SELECT.ipynb\" target=\"_parent\"><img src=\"https://colab.research.google.com/assets/colab-badge.svg\" alt=\"Open In Colab\"/></a>"
      ]
    },
    {
      "cell_type": "markdown",
      "source": [
        "1- **DESCRIPCIÓN DEL PROBLEMA**  :\n",
        "\n",
        "Problema: Conjunto de n números   más un índice $i$.\n",
        "\n",
        "\n",
        "Entrada: Conjunto de n números, más un índice i (elemento a buscar).\n",
        "\n",
        "Salida: Elemento x, que es mayor a i-1 elementos del arreglo.\n",
        "\n",
        "n = Tamaño del problema.\n",
        "\n"
      ],
      "metadata": {
        "id": "SF6X6dIM8BHf"
      }
    },
    {
      "cell_type": "markdown",
      "source": [
        "\n",
        "\n",
        "\n",
        "----------------------------------------------------------\n",
        "\n",
        "\n",
        "2- **ALGORITMO A UTILIZAR**:\n",
        "\n",
        "**Select**\n",
        "\n",
        "El algortimo selecciona el k-ésimo elemento más pequeño de un arreglo inicialmente no ordenado, en el peor de los casos el tiempo de ejecución es cuadrático, cuando se implementa el pivot_select, encuentra una mediana aproximada que se usa como pivote y en el peor de los casos la complejidad del tiempo se vuelve lineal.\n",
        "\n",
        "\n",
        "*ENTRADA*: Conjunto de n números, más un índice i (elemento a buscar).\n",
        "\n",
        "*SALIDA*: Elemento x, que es mayor a i-1 elementos del arreglo.\n",
        "\n",
        "\n",
        "**Funcionamiento:**\n",
        "\n",
        "1.  Divida el arreglo si el tamaño es n, asuma 5.\n",
        "\n",
        "2. Inicialice un arreglo vacio para almacenar las medianas que obtengamos de sub-listas más pequeñas.\n",
        "\n",
        "3. Recorra toda la lista en tamaños de 5, asumiendo que nuestra lista es divisible por 5.\n",
        "\n",
        "4. Para n/5 sub_listas, use seleccionar subrutina de fuerza bruta para seleccionar una mediana m, que está en el tercer rango de 5 elementos.\n",
        "\n",
        "5. Agregue las medianas obtenidas de las sub_listas al arreglo vacio.\n",
        "\n",
        "6. Use el algortimo select para encontrar la verdadera mediana de. La mediana obtenida es el pivote viable.\n",
        "\n",
        "7. Finalice el algoritmo una vez que se alcance el caso base, es decir, cuando la sub_lista se vuelva lo suficientemente pequeña.\n"
      ],
      "metadata": {
        "id": "AgNgh6855mbN"
      }
    },
    {
      "cell_type": "markdown",
      "source": [
        "**EJEMPLO**"
      ],
      "metadata": {
        "id": "S6eN90NUXkk5"
      }
    },
    {
      "cell_type": "markdown",
      "source": [
        "Consideremos el arreglo:  \n",
        "[10, 4, 5, 8, 6, 11, 26, 30]\n",
        "\n",
        "y queremos el ***3er elemento más pequeño***.\n",
        "\n",
        "- El arreglo ordenado :\n",
        "  [4, 5, 6, 8, 10, 11, 26, 30]. \n",
        "\n",
        "Así que el 3ero más pequeño es el número 6.\n",
        "\n",
        "------------------------------\n",
        "\n",
        " ***1. Como entrada:***\n",
        "\n",
        " [10, 4, 5, 8, 6, 11, 26, 30] y k = 3.\n",
        "\n",
        "Pivote: 4. \n",
        "- Arreglo: [10, 5, 8, 6, 11, 26, 30]\n",
        "\n",
        "---------------------------\n",
        "\n",
        "\n",
        "***2. El algoritmo llama recursivamente:***\n",
        "\n",
        "Selección rápida: [10, 5, 8, 6, 11, 26, 30} y k = 2. \n",
        "\n",
        "Pivote: 5.\n",
        "\n",
        "Arreglo: [10, 8, 6, 11, 26, 30]\n",
        "\n",
        "Reducimos el valor de k de 3 a 2. Ahora estamos buscando el segundo elemento más pequeño.\n",
        "\n",
        "Se llama recursivamente nuevamente: \n",
        "\n",
        "Selección rápida: [10, 8, 6, 11, 26, 30] y k = 1.\n",
        "\n",
        "El valor de k se reduce de manera similar.\n",
        "\n",
        "---------------------------------------\n",
        "\n",
        "***3. Elegimos nuevo pivote aleatorio:***\n",
        "\n",
        "Pivote: 26. \n",
        "\n",
        "Arreglo: [10, 8, 6, 11]. \n",
        "\n",
        "Eliminar: [30].\n",
        "\n",
        "Como el 30 es mayor, se elimina.\n",
        "\n",
        "El algoritmo llama recursivamente: \n",
        "\n",
        "Selección rápida: [10, 8, 6, 11] y k = 1.\n",
        "\n",
        "Aquí el valor de k no se reduce ya que no nos deshacemos de ningún elemento.\n",
        "\n",
        "Pivote: 10. \n",
        "\n",
        "Arreglo: [8, 6].\n",
        "\n",
        "Eliminar: [11].\n",
        "\n",
        "Recursivamente llamamos a selección rápida: [8, 6] y k = 1\n",
        "\n",
        "Pivote: 6. \n",
        "\n",
        "Arreglo: [6].\n",
        "\n",
        "Eliminar: [8].\n",
        "\n",
        "**Por lo tanto, el k = 3 más pequeño es 6.**"
      ],
      "metadata": {
        "id": "6wkdEemzXmqb"
      }
    },
    {
      "cell_type": "markdown",
      "source": [
        "**3. IMPLEMENTACIÓN  DEL ALGORITMO**"
      ],
      "metadata": {
        "id": "5k2e3j_jk1kI"
      }
    },
    {
      "cell_type": "markdown",
      "source": [
        "Función Insertion_sort"
      ],
      "metadata": {
        "id": "wjhyXa252075"
      }
    },
    {
      "cell_type": "code",
      "source": [
        "def insertionSort(a):\n",
        "  aux = 0;\n",
        "  n = len(a)\n",
        "  for i in range(1, len(a)):\n",
        "    clave = a[i]\n",
        "    j = i - 1    \n",
        "\n",
        "    while j >= 0 and clave < a[j]:\n",
        "       aux = aux + 1\n",
        "       a[j + 1] = a[j]\n",
        "       j = j - 1\n",
        "    a[j + 1] = clave\n",
        "\n",
        "  return a, aux"
      ],
      "metadata": {
        "id": "9sjc5gYUJAqb"
      },
      "execution_count": 50,
      "outputs": []
    },
    {
      "cell_type": "markdown",
      "source": [
        "Función Pivot_select"
      ],
      "metadata": {
        "id": "GWPdwfPZk97n"
      }
    },
    {
      "cell_type": "code",
      "source": [
        "def pivot_select(A, i):\n",
        "\n",
        "    sublists = [A[j:j+5] for j in range(0, len(A), 5)]\n",
        "    medians = [sorted(sublist)[len(sublist)/2] for sublist in sublists]\n",
        "    if len(medians) <= 5:\n",
        "        pivot = sorted(medians)[len(medians)/2]\n",
        "    else:\n",
        "        pivot = pivot_select(medians, len(medians)/2)\n",
        "\n",
        "    #partitioning step\n",
        "    low = [j for j in A if j < pivot]\n",
        "    high = [j for j in A if j > pivot]\n",
        "\n",
        "    k = len(low)\n",
        "    if i < k:\n",
        "        return pivot_select(low,i)\n",
        "    elif i > k:\n",
        "        return pivot_select(high,i-k-1)\n",
        "    else: #pivot = k\n",
        "        return pivot"
      ],
      "metadata": {
        "id": "O5XkWSu_QXaA"
      },
      "execution_count": 91,
      "outputs": []
    },
    {
      "cell_type": "code",
      "source": [
        "import math \n",
        "\n",
        "def pivot_select(arr, l, r):\n",
        "  cont = math.ceil((r - l + 1)/5)\n",
        "  indice_m = []\n",
        "  mediana = []\n",
        "\n",
        "  for i in range(cont):\n",
        "    rango_l = l+5*i\n",
        "    rango_r = r+4+5*i\n",
        "\n",
        "    if (rango_r > r):\n",
        "      rango_r = r\n",
        "\n",
        "    arr[rango_l:rango_r+1] = insertionSort(arr[rango_l:rango_r+1])\n",
        "\n",
        "    indice_m.append((rango_r + rango_l)//2)\n",
        "\n",
        "    mediana.append(arr[indice_m[i]])\n",
        "\n",
        "  mediana = insertionSort(mediana)\n",
        "  mediana_mediana = mediana[cont//2]\n",
        "  \n",
        "  for i in range(cont):\n",
        "    if (mediana_mediana == arr[indice_m[i]]):\n",
        "      k = indice_m[i]\n",
        "      break\n",
        "\n",
        "  (arr[r], arr[k]) = (arr[k], arr[r])\n",
        "  return partition(arr,l,r)\n",
        "  "
      ],
      "metadata": {
        "id": "U8JLXMa2U_da"
      },
      "execution_count": 64,
      "outputs": []
    },
    {
      "cell_type": "markdown",
      "source": [
        "Función Partition"
      ],
      "metadata": {
        "id": "lCZFO0GOlCtn"
      }
    },
    {
      "cell_type": "code",
      "source": [
        "import numpy as np\n",
        "\n",
        "def partition(arr, l, r, verbose = False):\n",
        "  \n",
        "  x = arr[r]\n",
        "  i = l\n",
        "  for j in range(l, r):\n",
        "\n",
        "    if verbose == True: \n",
        "      print(\"Pivote: \", arr[i])\n",
        "      \n",
        "      print(\"ARREGLO: \", arr)\n",
        "      print(\"\")\n",
        "\n",
        "\n",
        "    if arr[j] <= x:\n",
        "      arr[i], arr[j] = arr[j], arr[i]\n",
        "      i += 1\n",
        "      \n",
        "\n",
        "           \n",
        "  arr[i], arr[r] = arr[r], arr[i]\n",
        "  return i "
      ],
      "metadata": {
        "id": "jT1suDAdUlk0"
      },
      "execution_count": 106,
      "outputs": []
    },
    {
      "cell_type": "markdown",
      "source": [
        "Función Select"
      ],
      "metadata": {
        "id": "E9aO9LthlHwo"
      }
    },
    {
      "cell_type": "code",
      "execution_count": 98,
      "metadata": {
        "id": "heJIR1oh_2lQ"
      },
      "outputs": [],
      "source": [
        "def select(arr, l, r, k, verbose = False):\n",
        "\n",
        "    if (k > 0 and k <= r - l + 1):\n",
        "  \n",
        "        if verbose == True: \n",
        "          index = partition(arr, l, r, True)\n",
        "          \n",
        "        else:\n",
        "          index = partition(arr, l, r)\n",
        "        \n",
        "  \n",
        "        if (index - l == k - 1):\n",
        "            return arr[index]\n",
        "  \n",
        "        if (index - l > k - 1):\n",
        "            return select(arr, l, index - 1, k)\n",
        "  \n",
        "        return select(arr, index + 1, r, k - index + l - 1)\n",
        "  "
      ]
    },
    {
      "cell_type": "markdown",
      "source": [
        "PRUEBA DEL ALGORTIMO"
      ],
      "metadata": {
        "id": "9j9j1Pn9llYW"
      }
    },
    {
      "cell_type": "code",
      "source": [
        "arr = [ 10, 4, 5, 8, 6, 11, 26 ]\n",
        "n = len(arr)\n",
        "k = 3\n",
        "print(\"I-ESIMO ELEMENTO MÁS PEQUEÑO:\")\n",
        "print(select(arr, 0, n - 1, k))"
      ],
      "metadata": {
        "colab": {
          "base_uri": "https://localhost:8080/"
        },
        "id": "fGJtjt8AYy8m",
        "outputId": "0d25fdc9-9f77-4cbe-c2ac-1afff861bdec"
      },
      "execution_count": 108,
      "outputs": [
        {
          "output_type": "stream",
          "name": "stdout",
          "text": [
            "I-ESIMO ELEMENTO MÁS PEQUEÑO:\n",
            "6\n"
          ]
        }
      ]
    },
    {
      "cell_type": "markdown",
      "source": [
        "\n",
        "**EJECUCIÓN DEL ALGORITMO PASO A PASO**\n",
        "\n",
        "- Usando la opción verbose"
      ],
      "metadata": {
        "id": "aTDpZQvVeFm9"
      }
    },
    {
      "cell_type": "code",
      "source": [
        "arr = [ 10, 4, 5, 8, 6, 11, 26 ]\n",
        "n = len(arr)\n",
        "k = 3\n",
        "print(\"EJEMPLO PASO A PASO:\")\n",
        "numero = select(arr, 0, n - 1, k)\n",
        "print(\"Arreglo ordenado, para sacar la mediana: \", arr)\n",
        "print(\"\")\n",
        "select(arr, 0, n - 1, k, True)\n",
        "print(\"\")\n",
        "print(\"I-ESIMO ELEMENTO MÁS PEQUEÑO:\", numero)"
      ],
      "metadata": {
        "colab": {
          "base_uri": "https://localhost:8080/"
        },
        "id": "mO_ZhwKDls6A",
        "outputId": "3736e6d7-e400-466d-85a2-6367564c35a1"
      },
      "execution_count": 107,
      "outputs": [
        {
          "output_type": "stream",
          "name": "stdout",
          "text": [
            "EJEMPLO PASO A PASO:\n",
            "Arreglo ordenado, para sacar la mediana:  [4, 5, 6, 8, 10, 11, 26]\n",
            "\n",
            "Pivote:  4\n",
            "ARREGLO:  [4, 5, 6, 8, 10, 11, 26]\n",
            "\n",
            "Pivote:  5\n",
            "ARREGLO:  [4, 5, 6, 8, 10, 11, 26]\n",
            "\n",
            "Pivote:  6\n",
            "ARREGLO:  [4, 5, 6, 8, 10, 11, 26]\n",
            "\n",
            "Pivote:  8\n",
            "ARREGLO:  [4, 5, 6, 8, 10, 11, 26]\n",
            "\n",
            "Pivote:  10\n",
            "ARREGLO:  [4, 5, 6, 8, 10, 11, 26]\n",
            "\n",
            "Pivote:  11\n",
            "ARREGLO:  [4, 5, 6, 8, 10, 11, 26]\n",
            "\n",
            "\n",
            "I-ESIMO ELEMENTO MÁS PEQUEÑO: 6\n"
          ]
        }
      ]
    },
    {
      "cell_type": "markdown",
      "source": [
        "--------------------------------------------\n",
        "**4- PROPIEDADES DEL ALGORITMO**"
      ],
      "metadata": {
        "id": "-hql_wAjZn-n"
      }
    },
    {
      "cell_type": "markdown",
      "source": [
        "**TIEMPO DE EJECUCIÓN**\n",
        "\n",
        "Función **SELECT**\n",
        "\n",
        "-----------------\n",
        "\n",
        "Cada elemento perteneciente al arreglo A[ low high ] tiene la misma probabilidad de ser elegido como pivote -> A[low, high] tiene tamaño k con probabilidad $\\frac {1}{n}$ $($ A[ ] tiene n elemento $)$\n",
        "\n",
        "- Xn = I \n",
        "\n",
        "- E[En] = 1/n\n",
        "\n",
        "- A[low, q - 1] -> k -1 elementos    \n",
        "                                  \n",
        "- A[q + 1, high] -> n - k elementos   \n",
        "\n",
        "estos elementos tienen un Xn = 1\n",
        "\n",
        "**1. Para el peor caso:**\n",
        "\n",
        "A escoger seria el más grande entre k - 1 y n - k \n",
        " (rucursividad al mayor sub-arreglo) \n",
        "\n",
        "> T(n) =  $\\displaystyle \\sum_{k = 1}^{n}X_n $ T(max(k - 1, n - h)) = O(n), E[Xn]  (  O(n) es la partición  )\n",
        "\n",
        "\n",
        "**2. Tiempo de ejecución esperando:**\n",
        "\n",
        " \n",
        "-  E[T(n)] = $\\displaystyle \\sum_{k=1}^{a} \\frac{1}{n}\\ $\n",
        "E[T(max(k - 1, n - k))] + O(n), E[Xn] = 1/n\n",
        "\n",
        "\n",
        "-  E[T(n)] $ \\leq$ $\\displaystyle \\sum_{k=n/2}^{n} \\frac{2}{n}\\ $\n",
        "=$>$ E[T(n)] = O(n) ( Por inducción )\n",
        "\n",
        "- cn $ \\leq$ $\\frac {2}{n}$ c $\\displaystyle \\sum_{k=n/2}^{n} k\\  $\n",
        "$ + $ dn\n",
        "\n",
        "- $\\displaystyle \\sum_{k=n/2}^{n -1} \\frac{2}{n}\\ $\n",
        "$ - $ $\\displaystyle \\sum_{k=n/2}^{n/2 - 1}  $\n",
        "\n",
        "\n",
        "\n",
        "> cn $ \\leq$ $\\frac {c}{n}$  $($ $\\frac {(3 n^2 )}{4}$ $+$ $\\frac {1}{2}$ $- 2$ $)$ $+dn$ \n",
        "\n",
        "\n",
        "> cn $ \\leq$ $\\frac {3n^2}{4}$ $+$ $\\frac {c}{2}$ $+$ $dn$\n",
        "\n",
        "\n",
        "> $n \\geqslant  $ $\\frac {2c}{c*4d}$ , donde  existe un c $\\neq$ $4d$ y un $n$ $>$ $n_0$ tal que la innecuación se cumple \n",
        "\n",
        "\n",
        "Podemos decir que para los casos promedios, el tiempo de ejecución sera de O(n) y para los peores casos el tiempo de ejecución sera de O($n^2$).\n"
      ],
      "metadata": {
        "id": "XNat2WNVjB6P"
      }
    },
    {
      "cell_type": "markdown",
      "source": [
        "**CORRECTITUD**\n",
        "\n",
        "Función **SELECT**\n",
        "\n",
        "----------------------------\n",
        "\n",
        "Para un arreglo de tamaño n:\n",
        "\n",
        "**Por inducción:** \n",
        "\n",
        "- $ n = 1$\n",
        "\n",
        "Entonces con $i$ $=$ $1$, $p$ $=$ $r$,  y el $i$-esimo es A[ $p$ ]  = A[ $r$ ] \n",
        "\n",
        "- $n > 1$\n",
        "\n",
        "Con un pivote ***q*** este siendo la mediana del arreglo de medianas de forma tal que A[ $j$ ] $<$ A[ $q$ ] $<$ A[ $k$ ] para todo $j$ y $k$ con $p$ $\\leq$ $q$ $<$ $k$ $\\leq$ $r$\n",
        "\n",
        "Donde $p$ y $r$ son los valores menores y mayores del arreglo.\n",
        "\n",
        "Tenemos que para un $k$ $=$ $q$ $-$ $p$ $+$ $1$\n",
        "\n",
        "*  El k-esimo elemento del arreglo A[ $p$....$r$ ] es A[ $q$ ]\n",
        "\n",
        "* Si $i$ $<$ $k$, entonces el i-esimo elemento del arreglo A[ $p$....$r$ ] es eli-esimo elemento del arreglo A[ $p$....$q - 1$ ]\n",
        "\n",
        "* Si $i$ $>$ $k$, entonces el i-esimo elemento de A[ $p$....$r$ ] es el i-esimo elemento de A[ $q + 1$....$r$ ]\n",
        "\n",
        "**Por lo que podemos afirmar que esto si se cumple para un $n$ $>$ $1$**\n"
      ],
      "metadata": {
        "id": "q0oSesr-XKUQ"
      }
    },
    {
      "cell_type": "markdown",
      "source": [
        "----------------------------------\n",
        "\n",
        "**5- EXPERIMENTOS Y ANÁLISIS**"
      ],
      "metadata": {
        "id": "CNAMY2z50UFL"
      }
    },
    {
      "cell_type": "markdown",
      "source": [
        "N° DE COMPARACIONES EN EL PEOR Y MEJOR CASO."
      ],
      "metadata": {
        "id": "2Ee-cyv1ayaX"
      }
    },
    {
      "cell_type": "code",
      "source": [
        "import matplotlib.pyplot as plt\n",
        "import random\n",
        "\n",
        "x=[n for n in range(5,20)] \n",
        "\n",
        "y1=[n**2 for n in range(5,20)] #peor  \n",
        "y2=[n-1 for n in range(5,20)] #mejor\n",
        "y=[]; \n",
        "\n",
        "for n in range(5,20):\n",
        "  a = random.sample(range(1, 100), n)\n",
        "  a,cont = select(a)\n",
        "  y.append(cont)\n",
        "\n",
        "plt.plot(x,y)\n",
        "plt.plot(x,y1)\n",
        "plt.plot(x,y2)\n",
        "plt.legend([\"select\", \"Peor caso\", \"Mejor caso\"])\n",
        "\n",
        "plt.xlabel('n')\n",
        "plt.ylabel('número de operaciones')\n",
        "plt.show()"
      ],
      "metadata": {
        "id": "hJZf0nWCahz4"
      },
      "execution_count": null,
      "outputs": []
    },
    {
      "cell_type": "markdown",
      "source": [
        "**ANÁLISIS**\n",
        "\n",
        "Si bien el gráfico no se logró concretar, con lo aprendido y estudiado, puedo deducir que el algortimo select siempre estará en un rango aceptable como mejor caso, por la minuciosa busqueda del pivote."
      ],
      "metadata": {
        "id": "DKh7j5hjkbMi"
      }
    },
    {
      "cell_type": "markdown",
      "source": [
        "COMPARACIÓN ALGORTIMO SELECT Y R-SELECT"
      ],
      "metadata": {
        "id": "V7QG9ESFbBE2"
      }
    },
    {
      "cell_type": "markdown",
      "source": [
        "Código r-select\n"
      ],
      "metadata": {
        "id": "CMGYt6I2hDB_"
      }
    },
    {
      "cell_type": "code",
      "source": [
        "def randomPartition(arr, l, r) :\n",
        "    n = r - l + 1;\n",
        "    pivot = random.randrange(1, 100) % n;\n",
        "    arr[l + pivot], arr[r] = arr[r], arr[l + pivot];\n",
        "    return partition(arr, l, r);"
      ],
      "metadata": {
        "id": "jssg_YQ6hBH_"
      },
      "execution_count": 111,
      "outputs": []
    },
    {
      "cell_type": "code",
      "source": [
        "def rendo_select(a,l,r,k):\n",
        "  if (k > 0 and k <= r - l + 1):\n",
        "        \n",
        "        index = randomPartition(arr, l, r)\n",
        "\n",
        "        if (index - l == k - 1):\n",
        "            return arr[index]\n",
        "  \n",
        "        if (index - l > k - 1):\n",
        "            return rendo_select(arr, l, index - 1, k)\n",
        "  \n",
        "        return rendo_select(arr, index + 1, r, k - index + l - 1)"
      ],
      "metadata": {
        "id": "WJc5xiEObhu8"
      },
      "execution_count": 110,
      "outputs": []
    },
    {
      "cell_type": "code",
      "source": [
        "import matplotlib.pyplot as plt\n",
        "import datetime\n",
        "from timeit import repeat\n",
        "\n",
        "x=[]; y=[]; z=[]\n",
        "\n",
        "for n in range(5,500):\n",
        "\n",
        "  a = random.sample(range(1, 1000), n)\n",
        "  t = repeat(setup=\"from __main__ import select\", stmt=f\"select({a})\", repeat=1, number=10)\n",
        "  e = repeat(setup=\"from __main__ import rendo_select\", stmt=f\"rendo_select({a})\", repeat=1, number=10)\n",
        "  x.append(n)\n",
        "  y.append(t)\n",
        "  z.append(e)\n",
        "\n",
        "\n",
        "plt.plot(x,y,z)\n",
        "plt.legend([\"SELECT\",\"RENDOMIZED_SELECT\"])\n",
        "\n",
        "plt.xlabel('n')\n",
        "plt.ylabel('Tiempo en ms')\n",
        "plt.show()"
      ],
      "metadata": {
        "id": "PJMuEmi3jNnJ"
      },
      "execution_count": null,
      "outputs": []
    },
    {
      "cell_type": "markdown",
      "source": [
        "**ANÁLISIS**\n",
        "\n",
        "Aunque no logré realizar los graficos correctamente, puedo deducir con lo aprendido que el algortimo rendo_select es mas eficiente y rápido, además de no realizar muchas comparaciones, pero el algortimo select nos asegura que el tiempo de ejecución sera el mejor caso siempre, ya que elige el mejor pivote, que nunca va a ser un extremo y por ello el algoritmo select deberia tener mayores comparaciones que el algotimo rendo_select."
      ],
      "metadata": {
        "id": "C3-_ALQfjsnC"
      }
    }
  ]
}